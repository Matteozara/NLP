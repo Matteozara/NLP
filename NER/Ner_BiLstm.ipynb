{
  "nbformat": 4,
  "nbformat_minor": 0,
  "metadata": {
    "colab": {
      "name": "NLP_Matteo_zaramella.ipynb",
      "provenance": [],
      "collapsed_sections": []
    },
    "kernelspec": {
      "name": "python3",
      "display_name": "Python 3"
    },
    "language_info": {
      "name": "python"
    }
  },
  "cells": [
    {
      "cell_type": "markdown",
      "source": [
        "**Homowerk 1 NLP**\n",
        "\n",
        "This is the Colab Notebook for the first homework of NLP. I write and use it to create and train my model.\n",
        "There you can find the final version (the ordered one).\n",
        "\n",
        "To create this notebook I take some code and ispiration from the notebook presented at lessons and from 'https://scikit-learn.org/' for the confusion matrix."
      ],
      "metadata": {
        "id": "Qb5uoGbByoOb"
      }
    },
    {
      "cell_type": "markdown",
      "source": [
        "# Import"
      ],
      "metadata": {
        "id": "VAzxnophyklG"
      }
    },
    {
      "cell_type": "code",
      "execution_count": 1,
      "metadata": {
        "id": "XLONlMkRWpiR"
      },
      "outputs": [],
      "source": [
        "#import\n",
        "import re\n",
        "from collections import Counter\n",
        "from typing import *\n",
        "\n",
        "import matplotlib.pyplot as plt\n",
        "import pandas as pd\n",
        "import torch\n",
        "from torch.utils.data import Dataset, DataLoader\n",
        "from torch import nn\n",
        "import random\n",
        "import numpy as np\n",
        "from sklearn.metrics import f1_score\n",
        "import plotly.express as px\n",
        "from sklearn.metrics import confusion_matrix\n",
        "from sklearn.metrics import ConfusionMatrixDisplay"
      ]
    },
    {
      "cell_type": "code",
      "source": [
        "#fix random seed\n",
        "SEED = 42\n",
        "\n",
        "random.seed(SEED)\n",
        "np.random.seed(SEED)\n",
        "torch.manual_seed(SEED)\n",
        "torch.backends.cudnn.deterministic = True"
      ],
      "metadata": {
        "id": "002sca1WWxy1"
      },
      "execution_count": 2,
      "outputs": []
    },
    {
      "cell_type": "code",
      "source": [
        "#mount drive\n",
        "from google.colab import drive\n",
        "drive.mount('/content/drive')\n",
        "\n",
        "#path_train = '/content/drive/My Drive/results/'"
      ],
      "metadata": {
        "colab": {
          "base_uri": "https://localhost:8080/"
        },
        "id": "3BTvlhpiWz3k",
        "outputId": "fa3ca6ac-4b32-4b99-b9ee-29bf2f189ced"
      },
      "execution_count": 3,
      "outputs": [
        {
          "output_type": "stream",
          "name": "stdout",
          "text": [
            "Mounted at /content/drive\n"
          ]
        }
      ]
    },
    {
      "cell_type": "markdown",
      "source": [
        "# Create Dataset\n",
        "\n",
        "In this section (the larger one), I define all the function to model and change the format and the dimension of the dataset.\n",
        "I create also the vocabulary and the weights to asign on each classes."
      ],
      "metadata": {
        "id": "ltIoReiXVQPn"
      }
    },
    {
      "cell_type": "code",
      "source": [
        "#function to load dataset from the path given\n",
        "def load_dataset(path):\n",
        "  data = pd.read_table(path, error_bad_lines=False, warn_bad_lines=False)\n",
        "  # Remove the rows of the file that contain a \"NaN\" value.\n",
        "  data.dropna() #if i remove this parameter it takes all the word (doesn't divide by phrases)\n",
        "  return data"
      ],
      "metadata": {
        "id": "WbfKgS-gW5Qh"
      },
      "execution_count": 4,
      "outputs": []
    },
    {
      "cell_type": "code",
      "source": [
        "#load glove embeddings\n",
        "import gensim.downloader as gen\n",
        "\n",
        "wv = gen.load('glove-wiki-gigaword-300')"
      ],
      "metadata": {
        "id": "yUg5UKuxj-c4",
        "colab": {
          "base_uri": "https://localhost:8080/"
        },
        "outputId": "4649570d-a68d-43aa-95cf-9ee1caf033b8"
      },
      "execution_count": 5,
      "outputs": [
        {
          "output_type": "stream",
          "name": "stdout",
          "text": [
            "[==================================================] 100.0% 376.1/376.1MB downloaded\n"
          ]
        }
      ]
    },
    {
      "cell_type": "code",
      "source": [
        "#create vocabulary list\n",
        "words = wv.vocab"
      ],
      "metadata": {
        "id": "bScg-dBHkCst"
      },
      "execution_count": 6,
      "outputs": []
    },
    {
      "cell_type": "code",
      "source": [
        "#create a dictionary from glove: word to index and index to word\n",
        "\n",
        "def default(words):\n",
        "  dictionary_indices = {}\n",
        "  dictionary_words = []\n",
        "  #embeds = torch.randn(len(words), 100)\n",
        "  dictionary_indices['pad'] = 0\n",
        "  dictionary_words.append('pad')\n",
        "  #embeds[0] = torch.zeros(100)\n",
        "  dictionary_indices['unk'] = 1\n",
        "  dictionary_words.append('unk')\n",
        "  #embeds[1] = torch.rand(100)\n",
        "\n",
        "  return dictionary_indices, dictionary_words#, embeds\n",
        "\n",
        "\n",
        "def create_dictionary(words, wv):\n",
        "  dictionary_indice, dictionary_words = default(words)\n",
        "  for i in words:\n",
        "    #print(i)\n",
        "    if i != 'unk' and i != 'pad':\n",
        "      dictionary_indice[i] = len(dictionary_words)\n",
        "      #elem = wv[i]\n",
        "      #elem = torch.from_numpy(elem)\n",
        "      #embeds[len(dictionary_words)] = elem\n",
        "      dictionary_words.append(i)\n",
        "\n",
        "  return dictionary_indice, dictionary_words"
      ],
      "metadata": {
        "id": "5HuaCg3WkDwT"
      },
      "execution_count": 7,
      "outputs": []
    },
    {
      "cell_type": "code",
      "source": [
        "#create 'word_to_indices' and 'indices_to_word' with all the words on glove-wiki\n",
        "word_to_indices, indices_to_word = create_dictionary(words, wv)"
      ],
      "metadata": {
        "id": "Gc826LKgmBka"
      },
      "execution_count": 8,
      "outputs": []
    },
    {
      "cell_type": "code",
      "source": [
        "#transform data frame in list\n",
        "def create_list(train_data):\n",
        "  c = 0\n",
        "  n_word = 0\n",
        "  max = 0\n",
        "  lista_train= {}\n",
        "  lista = []\n",
        "  for i in range(0, len(train_data)):\n",
        "    if(train_data['#'][i] == '#'):\n",
        "      lista_train[c] = lista\n",
        "      if max < n_word:\n",
        "        max = n_word\n",
        "      lista = []\n",
        "      n_word = 0\n",
        "      c += 1\n",
        "    else:\n",
        "      lista.append([train_data['#'][i], train_data['id'][i]])\n",
        "      n_word += 1\n",
        "\n",
        "  return lista_train, max"
      ],
      "metadata": {
        "id": "BaA0DyBbqSNt"
      },
      "execution_count": 9,
      "outputs": []
    },
    {
      "cell_type": "code",
      "source": [
        "#transform data so each phrase has the same length\n",
        "def all_same_length(train, max):\n",
        "  for i in train:\n",
        "    diff = max - len(train[i]) \n",
        "    if diff > 0:\n",
        "      for x in range(0, diff):\n",
        "        train[i].append(['pad', 'PAD'])\n",
        "\n",
        "  return train"
      ],
      "metadata": {
        "id": "F8KMY6Nlg2i0"
      },
      "execution_count": 10,
      "outputs": []
    },
    {
      "cell_type": "code",
      "source": [
        "#Word into indices using vocabolary just create\n",
        "def dataset_to_indices(lista_train, w):\n",
        "  word_indices = {}\n",
        "  c = 0\n",
        "\n",
        "  for i in lista_train:\n",
        "    indices = []\n",
        "    for j in lista_train[i]:\n",
        "      #print(j[1])\n",
        "      try:\n",
        "        indices.append(w[j[0]])\n",
        "      except:\n",
        "        indices.append(1) #if the word isn't on dictionary\n",
        "    word_indices[c] = indices\n",
        "    c += 1\n",
        "  return word_indices"
      ],
      "metadata": {
        "id": "L-uAQKhxhRat"
      },
      "execution_count": 11,
      "outputs": []
    },
    {
      "cell_type": "code",
      "source": [
        "#Increase dicrionary with unknown train words and encode phrases\n",
        "def training_to_indices(lista_train, unigram, biagram, triagram, quadrigram, word_to_indices, indices_to_word):\n",
        "  word_indices = {}\n",
        "  c = 0\n",
        "\n",
        "  for i in lista_train:\n",
        "    indices = []\n",
        "    for j in lista_train[i]:\n",
        "      #print(j[1])\n",
        "      try:\n",
        "        indices.append(word_to_indices[j[0]])\n",
        "      except:\n",
        "        word_to_indices[j[0]] = len(indices_to_word)\n",
        "        indices.append(len(indices_to_word)) #if the word isn't on dictionary\n",
        "        indices_to_word.append(j[0])\n",
        "    word_indices[c] = indices\n",
        "    c += 1\n",
        "\n",
        "  for i in unigram:\n",
        "    #print('i: ', i)\n",
        "    indices = []\n",
        "    for j in unigram[i]:\n",
        "      #print('j: ',j)\n",
        "      indices.append(word_to_indices[j[0]])\n",
        "    word_indices[c] = indices\n",
        "    c += 1\n",
        "\n",
        "  for i in biagram:\n",
        "    #print('i: ', i)\n",
        "    indices = []\n",
        "    for j in biagram[i]:\n",
        "      #print('j: ',j)\n",
        "      indices.append(word_to_indices[j[0]])\n",
        "    word_indices[c] = indices\n",
        "    c += 1\n",
        "\n",
        "  for i in triagram:\n",
        "    indices = []\n",
        "    for j in triagram[i]:\n",
        "      indices.append(word_to_indices[j[0]])\n",
        "    word_indices[c] = indices\n",
        "    c += 1\n",
        "\n",
        "  for i in quadrigram:\n",
        "    indices = []\n",
        "    for j in quadrigram[i]:\n",
        "      indices.append(word_to_indices[j[0]])\n",
        "    word_indices[c] = indices\n",
        "    c += 1\n",
        "\n",
        "\n",
        "  return word_indices, word_to_indices, indices_to_word"
      ],
      "metadata": {
        "id": "4YyyHCAZpfjj"
      },
      "execution_count": 12,
      "outputs": []
    },
    {
      "cell_type": "code",
      "source": [
        "#create 'indices_to_label' and 'label_to_indices'\n",
        "label_to_indices = {'PAD' : 0, 'O' : 1, 'B-PER' : 2,'I-PER' : 3,'B-LOC' : 4,'I-LOC' : 5,'B-GRP' : 6,'I-GRP' : 7,'B-CORP' : 8,'I-CORP' : 9,'B-PROD' : 10,'I-PROD' : 11,'B-CW' : 12,'I-CW' : 13}\n",
        "indices_to_label = ['PAD', 'O', 'B-PER' ,'I-PER' ,'B-LOC' ,'I-LOC' ,'B-GRP' ,'I-GRP' ,'B-CORP' ,'I-CORP' ,'B-PROD' ,'I-PROD' ,'B-CW' ,'I-CW']"
      ],
      "metadata": {
        "id": "6JWsJd5kqlVc"
      },
      "execution_count": 13,
      "outputs": []
    },
    {
      "cell_type": "code",
      "source": [
        "#encode all labels of training set\n",
        "def label_index_train(lista_train, unigram, biagram, triagram, quadrigram, l):\n",
        "  word_label = {}\n",
        "  a = {'PAD' : 0, 'O' : 0, 'B-PER' : 0,'I-PER' : 0,'B-LOC' : 0,'I-LOC' : 0,'B-GRP' : 0,'I-GRP' : 0,'B-CORP' : 0,'I-CORP' : 0,'B-PROD' : 0,'I-PROD' : 0,'B-CW' : 0,'I-CW' : 0}\n",
        "  c = 0\n",
        "\n",
        "  for i in lista_train:\n",
        "    label = []\n",
        "    for j in lista_train[i]:\n",
        "      #print(j[1])\n",
        "      label.append(l[j[1]])\n",
        "      a[j[1]] += 1\n",
        "    word_label[c] = label\n",
        "    c += 1\n",
        "\n",
        "  for i in unigram:\n",
        "    label = []\n",
        "    for j in unigram[i]:\n",
        "      label.append(l[j[1]])\n",
        "      a[j[1]] += 1\n",
        "    word_label[c] = label\n",
        "    c += 1\n",
        "\n",
        "  for i in biagram:\n",
        "    label = []\n",
        "    for j in biagram[i]:\n",
        "      label.append(l[j[1]])\n",
        "      a[j[1]] += 1\n",
        "    word_label[c] = label\n",
        "    c += 1\n",
        "\n",
        "  for i in triagram:\n",
        "    label = []\n",
        "    for j in triagram[i]:\n",
        "      label.append(l[j[1]])\n",
        "      a[j[1]] += 1\n",
        "    word_label[c] = label\n",
        "    c += 1\n",
        "\n",
        "  for i in quadrigram:\n",
        "    label = []\n",
        "    for j in quadrigram[i]:\n",
        "      label.append(l[j[1]])\n",
        "      a[j[1]] += 1\n",
        "    word_label[c] = label\n",
        "    c += 1\n",
        "\n",
        "    \n",
        "\n",
        "  return word_label, a"
      ],
      "metadata": {
        "id": "IPnW01RXJAMR"
      },
      "execution_count": 14,
      "outputs": []
    },
    {
      "cell_type": "code",
      "source": [
        "#label to index (for validation)\n",
        "def label_index(lista_train, l):\n",
        "  word_label = {}\n",
        "  a = {'PAD' : 0, 'O' : 0, 'B-PER' : 0,'I-PER' : 0,'B-LOC' : 0,'I-LOC' : 0,'B-GRP' : 0,'I-GRP' : 0,'B-CORP' : 0,'I-CORP' : 0,'B-PROD' : 0,'I-PROD' : 0,'B-CW' : 0,'I-CW' : 0}\n",
        "  c = 0\n",
        "\n",
        "  for i in lista_train:\n",
        "    label = []\n",
        "    for j in lista_train[i]:\n",
        "      #print(j[1])\n",
        "      label.append(l[j[1]])\n",
        "      a[j[1]] += 1\n",
        "    word_label[c] = label\n",
        "    c += 1\n",
        "  return word_label, a"
      ],
      "metadata": {
        "id": "YBJAERJQqgS5"
      },
      "execution_count": 15,
      "outputs": []
    },
    {
      "cell_type": "code",
      "source": [
        "#create training set (put together all the upper functions)\n",
        "def dataset_creator_lstm_training(data, word_to_indices, indices_to_word, label_to_indices):\n",
        "  lista, max = create_list(data)\n",
        "\n",
        "  same_length = all_same_length(lista, max)\n",
        "  word_indices, word_to_indices, indices_to_word = training_to_indices(same_length, [], [], [], [], word_to_indices, indices_to_word)\n",
        "  label_ind, count_classes = label_index_train(same_length, [], [], [], [], label_to_indices)\n",
        "  data = {}\n",
        "  for i in range(0, len(word_indices)):\n",
        "    data[i]={'inputs': torch.LongTensor(word_indices[i]), 'outputs': torch.LongTensor(label_ind[i])}\n",
        "\n",
        "  return data, count_classes, word_to_indices, indices_to_word"
      ],
      "metadata": {
        "id": "k01o-q-xs2t_"
      },
      "execution_count": 16,
      "outputs": []
    },
    {
      "cell_type": "code",
      "source": [
        "#create validation (and test) set (put together all the upper functions)\n",
        "def dataset_creator_lstm(data, word_to_indices, label_to_indices):\n",
        "  lista, max = create_list(data)\n",
        "  same_length = all_same_length(lista, max)\n",
        "  word_indices = dataset_to_indices(same_length, word_to_indices)\n",
        "  label_ind, count_classes = label_index(same_length, label_to_indices)\n",
        "\n",
        "  data = {}\n",
        "  for i in range(0, len(word_indices)):\n",
        "    data[i]={'inputs': torch.LongTensor(word_indices[i]), 'outputs': torch.LongTensor(label_ind[i])}\n",
        "\n",
        "  return data, count_classes"
      ],
      "metadata": {
        "id": "ewnU6n1ngOKm"
      },
      "execution_count": 17,
      "outputs": []
    },
    {
      "cell_type": "code",
      "source": [
        "#function that create the weights for cross entropy function\n",
        "def param_classes(count_classes, params):\n",
        "  sum = 0\n",
        "  vec = [0]\n",
        "  for i in count_classes:\n",
        "    if i is not 'PAD':\n",
        "      sum += count_classes[i]\n",
        "  for i in count_classes:\n",
        "    if i is not 'PAD':\n",
        "      a = count_classes[i]/sum\n",
        "      #vec.append(1.0/a)\n",
        "      vec.append(1-a)\n",
        "\n",
        "  #for i in range(2, len(vec)):\n",
        "  #  vec[i] *= 1.5\n",
        "  \n",
        "  params.class_vector = torch.tensor(vec)"
      ],
      "metadata": {
        "id": "JXEKM-2BrQ_g"
      },
      "execution_count": 18,
      "outputs": []
    },
    {
      "cell_type": "code",
      "source": [
        "#create dataloader and full vocabulary\n",
        "from torch.utils.data import DataLoader\n",
        "import torch.optim as optim\n",
        "#device = \"cuda\"\n",
        "training_data_cnn = load_dataset('/content/drive/MyDrive/data (1)/train.tsv')\n",
        "dev_data_cnn = load_dataset('/content/drive/MyDrive/data (1)/dev.tsv')\n",
        "trainingset_lstm, count_classes_train, word_to_indices, indices_to_word = dataset_creator_lstm_training(training_data_cnn, word_to_indices, indices_to_word, label_to_indices)\n",
        "devset_lstm, count_classes_devset = dataset_creator_lstm(dev_data_cnn, word_to_indices, label_to_indices)\n",
        "\n",
        "train_dataset_lstm = DataLoader(trainingset_lstm, batch_size=128, shuffle=True)\n",
        "valid_dataset_lstm = DataLoader(devset_lstm, batch_size=128, shuffle=False)"
      ],
      "metadata": {
        "colab": {
          "base_uri": "https://localhost:8080/"
        },
        "id": "ScCjQcHBfn5s",
        "outputId": "eec41c94-1172-4b9d-9a3d-aa79a778745b"
      },
      "execution_count": 19,
      "outputs": [
        {
          "output_type": "stream",
          "name": "stderr",
          "text": [
            "/usr/local/lib/python3.7/dist-packages/ipykernel_launcher.py:5: FutureWarning: The warn_bad_lines argument has been deprecated and will be removed in a future version.\n",
            "\n",
            "\n",
            "  \"\"\"\n",
            "/usr/local/lib/python3.7/dist-packages/ipykernel_launcher.py:5: FutureWarning: The error_bad_lines argument has been deprecated and will be removed in a future version.\n",
            "\n",
            "\n",
            "  \"\"\"\n",
            "/usr/local/lib/python3.7/dist-packages/ipykernel_launcher.py:6: FutureWarning: The warn_bad_lines argument has been deprecated and will be removed in a future version.\n",
            "\n",
            "\n",
            "  \n",
            "/usr/local/lib/python3.7/dist-packages/ipykernel_launcher.py:6: FutureWarning: The error_bad_lines argument has been deprecated and will be removed in a future version.\n",
            "\n",
            "\n",
            "  \n"
          ]
        }
      ]
    },
    {
      "cell_type": "code",
      "source": [
        "#create embed's matrix\n",
        "def create_embed_weights(word_to_indices, wv):\n",
        "  embeds = torch.randn(len(word_to_indices), 300)\n",
        "  embeds[0] = torch.zeros(300)\n",
        "  embeds[1] = torch.rand(300)\n",
        "  for i in word_to_indices:\n",
        "    if i is not 'pad'and i is not 'unk':\n",
        "      try:\n",
        "        elem = wv[i]\n",
        "        elem = torch.from_numpy(elem)\n",
        "        embeds[word_to_indices[i]] = elem\n",
        "      except:\n",
        "        embeds[word_to_indices[i]] = torch.rand(300)\n",
        "  return embeds"
      ],
      "metadata": {
        "id": "B7Jl9mr5usp6"
      },
      "execution_count": 24,
      "outputs": []
    },
    {
      "cell_type": "code",
      "source": [
        "#create embeds\n",
        "embeds_pretrained = create_embed_weights(word_to_indices, wv)"
      ],
      "metadata": {
        "id": "PV7_jvQzvwu3"
      },
      "execution_count": 41,
      "outputs": []
    },
    {
      "cell_type": "markdown",
      "source": [
        "# Parameters\n",
        "\n",
        "Set the hyperparameters for the model. \n",
        "I have created an external class (like in  Notebook of Post-Tagging) because is easyer to modify."
      ],
      "metadata": {
        "id": "KZgexIKNyR-9"
      }
    },
    {
      "cell_type": "code",
      "source": [
        "#class params to set all the hyperparameters\n",
        "class HParams_bilstm():\n",
        "    vocab_size = len(indices_to_word)\n",
        "    hidden_dim = 128\n",
        "    embedding_dim = 300\n",
        "    num_classes = len(indices_to_label)\n",
        "    bidirectional = True\n",
        "    num_layers = 2\n",
        "    dropout = 0.005\n",
        "    embeddings = embeds_pretrained\n",
        "    class_vector = []\n",
        "    \n",
        "params = HParams_bilstm()"
      ],
      "metadata": {
        "id": "_W9Si7_BrxW6"
      },
      "execution_count": 42,
      "outputs": []
    },
    {
      "cell_type": "code",
      "source": [
        "#set weights for cross entropy\n",
        "param_classes(count_classes_train, params)"
      ],
      "metadata": {
        "id": "sjA76UzttsHx"
      },
      "execution_count": 43,
      "outputs": []
    },
    {
      "cell_type": "code",
      "source": [
        "PATH = '/content/drive/MyDrive/data (1)/emebds11.pt'\n",
        "torch.save(embeds_pretrained, PATH)"
      ],
      "metadata": {
        "id": "bpTIBJujRV_Z"
      },
      "execution_count": 44,
      "outputs": []
    },
    {
      "cell_type": "markdown",
      "source": [
        "# Model\n",
        "\n",
        "I have create a simple model:\n"
      ],
      "metadata": {
        "id": "HF5FXvc7x1fu"
      }
    },
    {
      "cell_type": "code",
      "source": [
        "#create model\n",
        "class Embed_classifier(nn.Module):\n",
        "\n",
        "    def __init__(self, hparams):\n",
        "        super(Embed_classifier, self).__init__()\n",
        "        self.word_embedding = nn.Embedding(hparams.vocab_size, hparams.embedding_dim)\n",
        "        self.word_embedding.weight.data.copy_(hparams.embeddings)\n",
        "\n",
        "        self.lstm = nn.LSTM(hparams.embedding_dim, hparams.hidden_dim, \n",
        "                            bidirectional=hparams.bidirectional,\n",
        "                            num_layers=hparams.num_layers,\n",
        "                            batch_first = True,\n",
        "                            dropout = hparams.dropout if hparams.num_layers > 1 else 0)\n",
        "        \n",
        "        lstm_output_dim = hparams.hidden_dim * 2\n",
        "    \n",
        "        self.fc1 = nn.Linear(lstm_output_dim, 64)\n",
        "\n",
        "        self.dropout = nn.Dropout(hparams.dropout)\n",
        "\n",
        "        self.classifier = nn.Linear(64, hparams.num_classes)\n",
        "\n",
        "    \n",
        "    def forward(self, x):\n",
        "        embeddings = self.word_embedding(x)\n",
        "        embeddings = self.dropout(embeddings)\n",
        "        x, (h, c) = self.lstm(embeddings)\n",
        "        x = self.dropout(x)\n",
        "        o = self.fc1(x)\n",
        "        o = self.dropout(o)\n",
        "        \n",
        "\n",
        "        output = self.classifier(o)\n",
        "        return output"
      ],
      "metadata": {
        "id": "sLA_oJ4SWPmL"
      },
      "execution_count": 45,
      "outputs": []
    },
    {
      "cell_type": "code",
      "source": [
        "class Trainer():\n",
        "    \"\"\"Utility class to train and evaluate a model.\"\"\"\n",
        "\n",
        "    def __init__(\n",
        "        self,\n",
        "        model: nn.Module,\n",
        "        loss_function,\n",
        "        optimizer,\n",
        "        label_vocab: indices_to_label,\n",
        "        log_steps:int=10_000,\n",
        "        log_level:int=2):\n",
        "        \"\"\"\n",
        "        Args:\n",
        "            model: the model we want to train.\n",
        "            loss_function: the loss_function to minimize.\n",
        "            optimizer: the optimizer used to minimize the loss_function.\n",
        "        \"\"\"\n",
        "        self.model = model\n",
        "        self.loss_function = loss_function\n",
        "        self.optimizer = optimizer\n",
        "\n",
        "        self.label_vocab = label_vocab\n",
        "        self.log_steps = log_steps\n",
        "        self.log_level = log_level\n",
        "        self.label_vocab = label_vocab\n",
        "\n",
        "    def train(self, train_dataset:Dataset, \n",
        "              valid_dataset:Dataset, \n",
        "              epochs:int=1):\n",
        "        \"\"\"\n",
        "        Args:\n",
        "            train_dataset: a Dataset or DatasetLoader instance containing\n",
        "                the training instances.\n",
        "            valid_dataset: a Dataset or DatasetLoader instance used to evaluate\n",
        "                learning progress.\n",
        "            epochs: the number of times to iterate over train_dataset.\n",
        "\n",
        "        Returns:\n",
        "            avg_train_loss: the average training loss on train_dataset over\n",
        "                epochs.\n",
        "        \"\"\"\n",
        "        assert epochs > 1 and isinstance(epochs, int)\n",
        "        if self.log_level > 0:\n",
        "            print('Training ...')\n",
        "        train_loss = 0.0\n",
        "        for epoch in range(epochs):\n",
        "            if self.log_level > 0:\n",
        "                print(' Epoch {:03d}'.format(epoch + 1))\n",
        "\n",
        "            epoch_loss = 0.0\n",
        "            self.model.train()\n",
        "\n",
        "            # for each batch \n",
        "            for step, sample in enumerate(train_dataset):\n",
        "                inputs = sample['inputs']\n",
        "                labels = sample['outputs']\n",
        "                self.optimizer.zero_grad()\n",
        "\n",
        "                predictions = self.model(inputs)\n",
        "                predictions = predictions.view(-1, predictions.shape[-1])\n",
        "                labels = labels.view(-1)\n",
        "                # labels  [[1,2,3], [18, 12, 3]] after the view(-1) [1,2,3, 18, 12, 3]\n",
        "                \n",
        "                sample_loss = self.loss_function(predictions, labels)\n",
        "                sample_loss.backward()\n",
        "                self.optimizer.step()\n",
        "\n",
        "                epoch_loss += sample_loss.tolist()\n",
        "\n",
        "                if self.log_level > 1 and step % self.log_steps == self.log_steps - 1:\n",
        "                    print('\\t[E: {:2d} @ step {}] current avg loss = {:0.4f}'.format(epoch, step, epoch_loss / (step + 1)))\n",
        "            \n",
        "            avg_epoch_loss = epoch_loss / len(train_dataset)\n",
        "            train_loss += avg_epoch_loss\n",
        "            if self.log_level > 0:\n",
        "                print('\\t[E: {:2d}] train loss = {:0.4f}'.format(epoch, avg_epoch_loss))\n",
        "\n",
        "            valid_loss = self.evaluate(valid_dataset)\n",
        "            \n",
        "            if self.log_level > 0:\n",
        "                print('  [E: {:2d}] valid loss = {:0.4f}'.format(epoch, valid_loss))\n",
        "\n",
        "        if self.log_level > 0:\n",
        "            print('... Done!')\n",
        "        \n",
        "        avg_epoch_loss = train_loss / epochs\n",
        "        return avg_epoch_loss\n",
        "    \n",
        "\n",
        "    def evaluate(self, valid_dataset):\n",
        "        \"\"\"\n",
        "        Args:\n",
        "            valid_dataset: the dataset to use to evaluate the model.\n",
        "\n",
        "        Returns:\n",
        "            avg_valid_loss: the average validation loss over valid_dataset.\n",
        "        \"\"\"\n",
        "        valid_loss = 0.0\n",
        "        # set dropout to 0!! Needed when we are in inference mode.\n",
        "        self.model.eval()\n",
        "        with torch.no_grad():\n",
        "            for sample in valid_dataset:\n",
        "                inputs = sample['inputs']\n",
        "                labels = sample['outputs']\n",
        "\n",
        "                predictions = self.model(inputs)\n",
        "                pred = predictions.view(-1, predictions.shape[-1])\n",
        "                lab = labels.view(-1)\n",
        "                #print('LABRLS: ', labels.tolist())\n",
        "                top_label_scores, top_label_indices = torch.max(pred, -1)\n",
        "                top_label_indices = top_label_indices.tolist()\n",
        "                #print('PREDICTION: ', top_label_indices)\n",
        "                sample_loss = self.loss_function(pred, lab)\n",
        "                valid_loss += sample_loss.tolist()\n",
        "                f1_score1 = f1_score(lab.data, top_label_indices, average=\"macro\")\n",
        "                print('f1: ', f1_score1)\n",
        "\n",
        "        \n",
        "        return valid_loss / len(valid_dataset)\n",
        "\n",
        "    def predict(self, x):\n",
        "        \"\"\"\n",
        "        Args:\n",
        "            x: a tensor of indices.\n",
        "        Returns: \n",
        "            A list containing the predicted POS tag for each token in the\n",
        "            input sentences.\n",
        "        \"\"\"\n",
        "        self.model.eval()\n",
        "        with torch.no_grad():\n",
        "            logits = self.model(x)\n",
        "            predictions = torch.argmax(logits, -1)\n",
        "            return logits, predictions\n",
        "    \n",
        "    \n"
      ],
      "metadata": {
        "id": "eW3q188Lt2AK"
      },
      "execution_count": 46,
      "outputs": []
    },
    {
      "cell_type": "markdown",
      "source": [
        "# Training"
      ],
      "metadata": {
        "id": "q0mGa_mbx6Ox"
      }
    },
    {
      "cell_type": "code",
      "source": [
        "bilstm_embed_classifier = Embed_classifier(params)#.cuda()"
      ],
      "metadata": {
        "id": "JGZwhQZRt9MU"
      },
      "execution_count": 47,
      "outputs": []
    },
    {
      "cell_type": "code",
      "source": [
        "bilstm_trainer = Trainer(\n",
        "    model = bilstm_embed_classifier,\n",
        "    loss_function = nn.CrossEntropyLoss(weight=params.class_vector, ignore_index=label_to_indices['PAD']),\n",
        "    optimizer = torch.optim.Adam(bilstm_embed_classifier.parameters()), #lr=0.006\n",
        "    label_vocab=indices_to_label\n",
        ")"
      ],
      "metadata": {
        "id": "y9lnuzA3uA1o"
      },
      "execution_count": 48,
      "outputs": []
    },
    {
      "cell_type": "code",
      "source": [
        "bilstm_trainer.train(train_dataset_lstm, valid_dataset_lstm, 6)\n",
        "PATH = '/content/drive/MyDrive/data (1)/model_prova1.pt'\n",
        "torch.save(bilstm_embed_classifier, PATH)\n",
        "#torch.save(bilstm_embed_classifier.state_dict(), PATH)"
      ],
      "metadata": {
        "id": "ziXLy55WuEtd",
        "colab": {
          "base_uri": "https://localhost:8080/"
        },
        "outputId": "6f69a75b-4d20-46eb-d60e-9b27bf857c75"
      },
      "execution_count": null,
      "outputs": [
        {
          "output_type": "stream",
          "name": "stdout",
          "text": [
            "Training ...\n",
            " Epoch 001\n",
            "\t[E:  0] train loss = 1.2813\n",
            "f1:  0.49520657224123027\n",
            "f1:  0.44371812814134143\n",
            "f1:  0.4794639623316116\n",
            "f1:  0.43801838888985994\n",
            "f1:  0.4564337965646419\n",
            "f1:  0.4108731128444825\n",
            "  [E:  0] valid loss = 0.6842\n",
            " Epoch 002\n",
            "\t[E:  1] train loss = 0.5204\n",
            "f1:  0.5673852947792597\n",
            "f1:  0.5512076554276761\n",
            "f1:  0.5635470930286383\n",
            "f1:  0.5173189643583151\n",
            "f1:  0.5204331253917803\n",
            "f1:  0.5019157341979196\n",
            "  [E:  1] valid loss = 0.5359\n",
            " Epoch 003\n",
            "\t[E:  2] train loss = 0.3337\n",
            "f1:  0.5794384729961038\n",
            "f1:  0.5708326279844964\n",
            "f1:  0.5774498765444795\n",
            "f1:  0.5364975814291415\n",
            "f1:  0.5198896713940628\n",
            "f1:  0.5340827327331615\n",
            "  [E:  2] valid loss = 0.4963\n",
            " Epoch 004\n",
            "\t[E:  3] train loss = 0.2069\n",
            "f1:  0.6461555222959197\n",
            "f1:  0.5823369712466245\n",
            "f1:  0.6225941882739837\n",
            "f1:  0.5845505316059848\n",
            "f1:  0.5802762256849815\n",
            "f1:  0.5642486616984699\n",
            "  [E:  3] valid loss = 0.5315\n",
            " Epoch 005\n",
            "\t[E:  4] train loss = 0.1237\n",
            "f1:  0.6605955215552743\n",
            "f1:  0.6412823072371545\n",
            "f1:  0.6312340227431752\n",
            "f1:  0.595481595098924\n",
            "f1:  0.5943427063766743\n",
            "f1:  0.578247663660186\n",
            "  [E:  4] valid loss = 0.6013\n",
            " Epoch 006\n"
          ]
        }
      ]
    },
    {
      "cell_type": "markdown",
      "source": [
        "# Prediction\n",
        "\n",
        "Predict the Validation set and create the Confusion Matrix associated"
      ],
      "metadata": {
        "id": "QO4Ti18byE-s"
      }
    },
    {
      "cell_type": "code",
      "source": [
        "#create validation (and test) set (put together all the upper functions)\n",
        "def dataset_prediction(data, word_to_indices, label_to_indices):\n",
        "  lista, _ = create_list(data)\n",
        "  word_indices = dataset_to_indices(lista, word_to_indices)\n",
        "  label_ind, count_classes = label_index(lista, label_to_indices)\n",
        "\n",
        "  data = {}\n",
        "  for i in range(0, len(word_indices)):\n",
        "    data[i]={'inputs': torch.LongTensor(word_indices[i]), 'outputs': torch.LongTensor(label_ind[i])}\n",
        "\n",
        "  return data, count_classes"
      ],
      "metadata": {
        "id": "7XbIJYnqmaPs"
      },
      "execution_count": 34,
      "outputs": []
    },
    {
      "cell_type": "code",
      "source": [
        "#create validation dataloader for prediction\n",
        "dev_data_cnn = load_dataset('/content/drive/MyDrive/data (1)/dev.tsv')\n",
        "devset_lstm, _ = dataset_creator_lstm(dev_data_cnn, word_to_indices, label_to_indices)\n",
        "valid_dataset_lstm = DataLoader(devset_lstm, batch_size=128, shuffle=False)"
      ],
      "metadata": {
        "colab": {
          "base_uri": "https://localhost:8080/"
        },
        "id": "a6K6dU-al_JH",
        "outputId": "cbdea1ed-ef90-4125-ec56-56df17fab4f5"
      },
      "execution_count": 35,
      "outputs": [
        {
          "output_type": "stream",
          "name": "stderr",
          "text": [
            "/usr/local/lib/python3.7/dist-packages/ipykernel_launcher.py:2: FutureWarning: The warn_bad_lines argument has been deprecated and will be removed in a future version.\n",
            "\n",
            "\n",
            "  \n",
            "/usr/local/lib/python3.7/dist-packages/ipykernel_launcher.py:2: FutureWarning: The error_bad_lines argument has been deprecated and will be removed in a future version.\n",
            "\n",
            "\n",
            "  \n"
          ]
        }
      ]
    },
    {
      "cell_type": "code",
      "source": [
        "pred = []\n",
        "logit = []\n",
        "true_label = []\n",
        "result = []\n",
        "true_result = []\n",
        "for i in valid_dataset_lstm:\n",
        "  inputs = i['inputs']\n",
        "  labels = i['outputs']\n",
        "  logits, predict = bilstm_trainer.predict(inputs)\n",
        "  for i in range(0, predict.size(dim=0)):\n",
        "    pre = predict[i].numpy()\n",
        "    lab = labels[i].numpy()\n",
        "    pred.append(pre)\n",
        "    true_label.append(lab)\n",
        "  for i in pred:\n",
        "    for j in i:\n",
        "      \n",
        "      result.append(j)\n",
        "  for i in true_label:\n",
        "    for j in i:\n",
        "      true_result.append(j)"
      ],
      "metadata": {
        "id": "CaMPYxo7eQi7"
      },
      "execution_count": 36,
      "outputs": []
    },
    {
      "cell_type": "code",
      "source": [
        "plot_matrix(result, true_result)"
      ],
      "metadata": {
        "colab": {
          "base_uri": "https://localhost:8080/",
          "height": 473
        },
        "id": "a5HyIWijgJm2",
        "outputId": "71ce2855-dd67-4b78-c585-9cc486061ec0"
      },
      "execution_count": 40,
      "outputs": [
        {
          "output_type": "display_data",
          "data": {
            "text/plain": [
              "<Figure size 576x576 with 2 Axes>"
            ],
            "image/png": "[encoded data removed]"
          },
          "metadata": {
            "needs_background": "light"
          }
        }
      ]
    },
    {
      "cell_type": "code",
      "source": [
        "def plot_matrix(predict, label):\n",
        "                c_matrix = confusion_matrix(label, predict, normalize='true')\n",
        "                plt.figure(figsize=(8,8))\n",
        "                plt.imshow(c_matrix, cmap=\"Reds\")\n",
        "                plt.title('Confusion matrix', fontsize=20, color = 'grey', pad=16)\n",
        "                plt.xticks(np.arange( 14),labels= ['PAD', 'O', 'B-PER' ,'I-PER' ,'B-LOC' ,'I-LOC' ,'B-GRP' ,'I-GRP' ,'B-CORP' ,'I-CORP' ,'B-PROD' ,'I-PROD' ,'B-CW' ,'I-CW'], rotation = 90 )\n",
        "                plt.yticks(np.arange( 14),labels= ['PAD', 'O', 'B-PER' ,'I-PER' ,'B-LOC' ,'I-LOC' ,'B-GRP' ,'I-GRP' ,'B-CORP' ,'I-CORP' ,'B-PROD' ,'I-PROD' ,'B-CW' ,'I-CW'] )\n",
        "                plt.colorbar()\n",
        "\n",
        "                plt.show()\n"
      ],
      "metadata": {
        "id": "fZ4pKgVLXLlM"
      },
      "execution_count": 39,
      "outputs": []
    }
  ]
}